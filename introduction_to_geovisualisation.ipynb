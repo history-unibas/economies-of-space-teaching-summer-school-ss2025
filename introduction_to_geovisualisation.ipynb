{
 "cells": [
  {
   "cell_type": "markdown",
   "id": "0c1e606e",
   "metadata": {},
   "source": [
    "# Introduction to Geovisualisation\n",
    "\n",
    "This Jupyter notebook demonstrates how objects located at different places at different times can be displayed on a map.\n",
    "\n",
    "The notebook can be run locally on the computer or in a cloud-based environment such as Google Colab. When using Google Colab, this notebook can be accessed directly using the following URL: https://colab.research.google.com/github/history-unibas/economies-of-space-teaching-summer-school-ss2025/blob/main/introduction_to_geovisualisation.ipynb"
   ]
  },
  {
   "cell_type": "markdown",
   "id": "c4486aea",
   "metadata": {},
   "source": [
    "## Load necessary modules "
   ]
  },
  {
   "cell_type": "code",
   "execution_count": null,
   "id": "188cecb0",
   "metadata": {},
   "outputs": [],
   "source": [
    "import pandas as pd\n",
    "import os\n",
    "import subprocess\n",
    "\n",
    "\n",
    "from ipyleaflet import Map, basemaps, WMSLayer, Marker, AntPath, Popup, FullScreenControl\n",
    "from ipywidgets import HTML, VBox"
   ]
  },
  {
   "cell_type": "markdown",
   "id": "7fe3cb65",
   "metadata": {},
   "source": [
    "## Connect personal Google Drive with Google Colab"
   ]
  },
  {
   "cell_type": "code",
   "execution_count": null,
   "id": "c4cdf7f6",
   "metadata": {},
   "outputs": [],
   "source": [
    "try:\n",
    "    from google.colab import drive\n",
    "    in_colab = True\n",
    "    \n",
    "except ImportError:\n",
    "    in_colab = False\n",
    "\n",
    "if in_colab:\n",
    "  \n",
    "  # Mount personal google drive.\n",
    "  drive.mount('/content/drive')"
   ]
  },
  {
   "cell_type": "markdown",
   "id": "7852559d",
   "metadata": {},
   "source": [
    "## Choose a base map"
   ]
  },
  {
   "cell_type": "markdown",
   "id": "12c3601a",
   "metadata": {},
   "source": [
    "### Base maps of the ipyleaflet module\n",
    "\n",
    "More information: https://ipyleaflet.readthedocs.io/en/latest/map_and_basemaps/basemaps.html"
   ]
  },
  {
   "cell_type": "code",
   "execution_count": null,
   "id": "83756fd3",
   "metadata": {},
   "outputs": [],
   "source": [
    "# Define the centre of the map (lat, lon).\n",
    "MAP_CENTRE = (46.950, 7.445)\n",
    "\n",
    "# Define the zoom level of the map.\n",
    "ZOOM_LEVEL = 12\n",
    "\n",
    "m1 = Map(basemap=basemaps.OpenStreetMap.Mapnik, center=MAP_CENTRE, zoom=ZOOM_LEVEL)\n",
    "\n",
    "m1"
   ]
  },
  {
   "cell_type": "markdown",
   "id": "51251f16",
   "metadata": {},
   "source": [
    "### Base maps from the Federal Office of Topography swisstopo\n",
    "\n",
    "Examples of layers:\n",
    "- ch.swisstopo.pixelkarte-farbe\n",
    "- ch.swisstopo.pixelkarte-grau\n",
    "- ch.swisstopo.swissimage"
   ]
  },
  {
   "cell_type": "code",
   "execution_count": null,
   "id": "0bc6f4d8",
   "metadata": {},
   "outputs": [],
   "source": [
    "wms_layer = WMSLayer(\n",
    "    url = 'https://wms.geo.admin.ch/',\n",
    "    layers='ch.swisstopo.pixelkarte-farbe',\n",
    "    format='image/png',\n",
    "    attribution='© swisstopo'\n",
    ")\n",
    "m2 = Map(basemap=wms_layer, center=MAP_CENTRE, zoom=ZOOM_LEVEL)\n",
    "\n",
    "m2"
   ]
  },
  {
   "cell_type": "markdown",
   "id": "897c5432",
   "metadata": {},
   "source": [
    "## Import data for visualisation\n",
    "\n",
    "We use a CSV file as the basis for displaying objects on the map. The following columns are required for display on the map:\n",
    "- lon: Longitude coordinate in the coordinate system EPSG:4326 (World Geodetic System 1984, WGS 84)\n",
    "- lat: Latitude coordinate in the coordinate system EPSG:4326 (World Geodetic System 1984, WGS 84)\n",
    "- datetime: The date and time at which the object was located at this time\n",
    "- description: Description of the location\n",
    "- object_id: Unique key of the object"
   ]
  },
  {
   "cell_type": "code",
   "execution_count": null,
   "id": "aab733ae",
   "metadata": {},
   "outputs": [],
   "source": [
    "# Filename of the input data.\n",
    "FILENAME_DATA = 'example_data.csv'\n",
    "\n",
    "# URL of the input data.\n",
    "URL_DATA = 'https://raw.githubusercontent.com/history-unibas/economies-of-space-teaching-summer-school-ss2025/refs/heads/main/example_data.csv'\n",
    "\n",
    "# Working directory in Google Colab.\n",
    "WORKING_DIRECTORY = '/content/drive/My Drive/Colab Notebooks/'\n",
    "\n",
    "# Save the data in google drive.\n",
    "if in_colab:\n",
    "    \n",
    "    if not os.path.exists(WORKING_DIRECTORY + FILENAME_DATA):\n",
    "        \n",
    "        # Download the data in working directory.\n",
    "        subprocess.run(['wget', URL_DATA, '-O', WORKING_DIRECTORY + FILENAME_DATA], check=True)\n",
    "      \n",
    "    # Update the filepath.\n",
    "    FILENAME_DATA = WORKING_DIRECTORY + FILENAME_DATA"
   ]
  },
  {
   "cell_type": "code",
   "execution_count": null,
   "id": "1210054c",
   "metadata": {},
   "outputs": [],
   "source": [
    "# Load the data.\n",
    "df = pd.read_csv(FILENAME_DATA, parse_dates=['datetime'])\n",
    "\n",
    "display(df)"
   ]
  },
  {
   "cell_type": "markdown",
   "id": "411be6fb",
   "metadata": {},
   "source": [
    "## Show data on the map"
   ]
  },
  {
   "cell_type": "code",
   "execution_count": null,
   "id": "6a1f099c",
   "metadata": {},
   "outputs": [],
   "source": [
    "# Shift of the lines in degree.\n",
    "SHIFT = 0.0001\n",
    "\n",
    "# Create a map for each object.\n",
    "maps = []\n",
    "grouped = df.groupby('object_id')\n",
    "for _, group in grouped:\n",
    "    \n",
    "    # Define a map.\n",
    "    MAP_CENTRE = (group['lat'].mean(), group['lon'].mean())\n",
    "    m = Map(basemap=basemaps.OpenStreetMap.Mapnik, center=MAP_CENTRE, zoom=ZOOM_LEVEL)\n",
    "\n",
    "    group_sorted = group.sort_values(by='datetime')\n",
    "    coords_prev = ()\n",
    "    \n",
    "    for _, entry in group_sorted.iterrows():\n",
    "        \n",
    "        # Add markers with popup to the map.\n",
    "        marker = Marker(location=(entry['lat'], entry['lon']))\n",
    "        popup = Popup(location=(entry['lat'], entry['lon']), child=HTML(entry['description']), close_button=True)\n",
    "        marker.popup = popup        \n",
    "        m.add_layer(marker)\n",
    "\n",
    "        coords_current = (entry['lat'], entry['lon'])\n",
    "        if coords_prev:\n",
    "            \n",
    "            # Shift the coordinates.\n",
    "            if coords_current[0] < coords_prev[0]:\n",
    "                coords_prev_shifted = (coords_prev[0] + SHIFT, coords_prev[1] + SHIFT)\n",
    "                coords_current_shifted = (coords_current[0] + SHIFT, coords_current[1] + SHIFT)\n",
    "            else:\n",
    "                coords_prev_shifted = (coords_prev[0] - SHIFT, coords_prev[1] - SHIFT)\n",
    "                coords_current_shifted = (coords_current[0] - SHIFT, coords_current[1] - SHIFT)\n",
    "\n",
    "            # Create a line between both points.\n",
    "            arrow_line = AntPath(locations=[coords_prev_shifted, coords_current_shifted],\n",
    "                                 delay=4000,\n",
    "                                 weight=4\n",
    "                                 )\n",
    "            m.add_layer(arrow_line)\n",
    "            \n",
    "        coords_prev = tuple(coords_current)\n",
    "\n",
    "    maps.append(m)\n",
    "\n",
    "# Show the maps.\n",
    "vbox = VBox(maps)\n",
    "display(vbox)"
   ]
  },
  {
   "cell_type": "markdown",
   "id": "a5b97df2",
   "metadata": {},
   "source": [
    "## Export the map as html file"
   ]
  },
  {
   "cell_type": "code",
   "execution_count": null,
   "id": "4419f2d0",
   "metadata": {},
   "outputs": [],
   "source": [
    "# File name of the html to be exported.\n",
    "FILENAME_MAP = 'map.html'\n",
    "\n",
    "# Export the first map as an example.\n",
    "m3 = maps[0]\n",
    "m3.add_control(FullScreenControl())\n",
    "\n",
    "if in_colab:\n",
    "    m3.save(WORKING_DIRECTORY + FILENAME_MAP)\n",
    "\n",
    "else:\n",
    "    m3.save(FILENAME_MAP)"
   ]
  }
 ],
 "metadata": {
  "kernelspec": {
   "display_name": ".venv",
   "language": "python",
   "name": "python3"
  },
  "language_info": {
   "codemirror_mode": {
    "name": "ipython",
    "version": 3
   },
   "file_extension": ".py",
   "mimetype": "text/x-python",
   "name": "python",
   "nbconvert_exporter": "python",
   "pygments_lexer": "ipython3",
   "version": "3.10.11"
  }
 },
 "nbformat": 4,
 "nbformat_minor": 5
}
