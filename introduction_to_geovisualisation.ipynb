{
 "cells": [
  {
   "cell_type": "markdown",
   "id": "0c1e606e",
   "metadata": {},
   "source": [
    "# Introduction to Geovisualisation\n",
    "\n",
    "This Jupyter notebook demonstrates how objects located at different places at different times can be displayed on a map.\n",
    "\n",
    "The notebook can be run locally on the computer or in a cloud-based environment such as Google Colab. When using Google Colab, this notebook can be accessed directly using the following URL: https://colab.research.google.com/github/history-unibas/economies-of-space-teaching-summer-school-ss2025/blob/main/introduction_to_geovisualisation.ipynb"
   ]
  },
  {
   "cell_type": "markdown",
   "id": "c4486aea",
   "metadata": {},
   "source": [
    "## Load necessary modules "
   ]
  },
  {
   "cell_type": "code",
   "execution_count": 9,
   "id": "188cecb0",
   "metadata": {},
   "outputs": [],
   "source": [
    "import pandas as pd\n",
    "import os\n",
    "import subprocess\n",
    "\n",
    "\n",
    "from ipyleaflet import Map, basemaps, WMSLayer, Marker, AntPath, Popup, FullScreenControl\n",
    "from ipywidgets import HTML, VBox"
   ]
  },
  {
   "cell_type": "markdown",
   "id": "7fe3cb65",
   "metadata": {},
   "source": [
    "## Connect personal Google Drive with Google Colab"
   ]
  },
  {
   "cell_type": "code",
   "execution_count": 10,
   "id": "c4cdf7f6",
   "metadata": {},
   "outputs": [],
   "source": [
    "try:\n",
    "    from google.colab import drive\n",
    "    in_colab = True\n",
    "    \n",
    "except ImportError:\n",
    "    in_colab = False\n",
    "\n",
    "if in_colab:\n",
    "  \n",
    "  # Mount personal google drive.\n",
    "  drive.mount('/content/drive')"
   ]
  },
  {
   "cell_type": "markdown",
   "id": "7852559d",
   "metadata": {},
   "source": [
    "## Choose a base map"
   ]
  },
  {
   "cell_type": "markdown",
   "id": "12c3601a",
   "metadata": {},
   "source": [
    "### Base maps of the ipyleaflet module\n",
    "\n",
    "More information: https://ipyleaflet.readthedocs.io/en/latest/map_and_basemaps/basemaps.html"
   ]
  },
  {
   "cell_type": "code",
   "execution_count": 11,
   "id": "83756fd3",
   "metadata": {},
   "outputs": [
    {
     "data": {
      "application/vnd.jupyter.widget-view+json": {
       "model_id": "28337db0f3b24a7fbd448c8204d6e3f3",
       "version_major": 2,
       "version_minor": 0
      },
      "text/plain": [
       "Map(center=[46.95, 7.445], controls=(ZoomControl(options=['position', 'zoom_in_text', 'zoom_in_title', 'zoom_o…"
      ]
     },
     "execution_count": 11,
     "metadata": {},
     "output_type": "execute_result"
    }
   ],
   "source": [
    "# Define the centre of the map (lat, lon).\n",
    "MAP_CENTRE = (46.950, 7.445)\n",
    "\n",
    "# Define the zoom level of the map.\n",
    "ZOOM_LEVEL = 12\n",
    "\n",
    "m1 = Map(basemap=basemaps.OpenStreetMap.Mapnik, center=MAP_CENTRE, zoom=ZOOM_LEVEL)\n",
    "\n",
    "m1"
   ]
  },
  {
   "cell_type": "markdown",
   "id": "51251f16",
   "metadata": {},
   "source": [
    "### Base maps from the Federal Office of Topography swisstopo\n",
    "\n",
    "Examples of layers:\n",
    "- ch.swisstopo.pixelkarte-farbe\n",
    "- ch.swisstopo.pixelkarte-grau\n",
    "- ch.swisstopo.swissimage"
   ]
  },
  {
   "cell_type": "code",
   "execution_count": 12,
   "id": "0bc6f4d8",
   "metadata": {},
   "outputs": [
    {
     "data": {
      "application/vnd.jupyter.widget-view+json": {
       "model_id": "bfcbbe9c93564385a4d1efd6fbdf033a",
       "version_major": 2,
       "version_minor": 0
      },
      "text/plain": [
       "Map(center=[46.95, 7.445], controls=(ZoomControl(options=['position', 'zoom_in_text', 'zoom_in_title', 'zoom_o…"
      ]
     },
     "execution_count": 12,
     "metadata": {},
     "output_type": "execute_result"
    }
   ],
   "source": [
    "wms_layer = WMSLayer(\n",
    "    url = 'https://wms.geo.admin.ch/',\n",
    "    layers='ch.swisstopo.pixelkarte-farbe',\n",
    "    format='image/png',\n",
    "    attribution='© swisstopo'\n",
    ")\n",
    "m2 = Map(basemap=wms_layer, center=MAP_CENTRE, zoom=ZOOM_LEVEL)\n",
    "\n",
    "m2"
   ]
  },
  {
   "cell_type": "markdown",
   "id": "897c5432",
   "metadata": {},
   "source": [
    "## Import data for visualisation\n",
    "\n",
    "We use a CSV file as the basis for displaying objects on the map. The following columns are required for display on the map:\n",
    "| Name of the column   | Description          |\n",
    "|----------|----------------------|\n",
    "| lon | Longitude coordinate in the coordinate system EPSG:4326 (World Geodetic System 1984, WGS 84) |\n",
    "| lat | Latitude coordinate in the coordinate system EPSG:4326 (World Geodetic System 1984, WGS 84) |\n",
    "| datetime | The date and time at which the object was located at this time |\n",
    "| description | Description of the location |\n",
    "| object_id | Unique key of the object |"
   ]
  },
  {
   "cell_type": "code",
   "execution_count": 13,
   "id": "aab733ae",
   "metadata": {},
   "outputs": [],
   "source": [
    "# Filename of the input data.\n",
    "FILENAME_DATA = 'example_data.csv'\n",
    "\n",
    "# URL of the input data.\n",
    "URL_DATA = 'https://raw.githubusercontent.com/history-unibas/economies-of-space-teaching-summer-school-ss2025/refs/heads/main/example_data.csv'\n",
    "\n",
    "# Working directory in Google Colab.\n",
    "WORKING_DIRECTORY = '/content/drive/My Drive/Colab Notebooks/'\n",
    "\n",
    "# Save the data in google drive.\n",
    "if in_colab:\n",
    "    \n",
    "    if not os.path.exists(WORKING_DIRECTORY + FILENAME_DATA):\n",
    "        \n",
    "        # Download the data in working directory.\n",
    "        subprocess.run(['wget', URL_DATA, '-O', WORKING_DIRECTORY + FILENAME_DATA], check=True)\n",
    "      \n",
    "    # Update the filepath.\n",
    "    FILENAME_DATA = WORKING_DIRECTORY + FILENAME_DATA"
   ]
  },
  {
   "cell_type": "code",
   "execution_count": 14,
   "id": "1210054c",
   "metadata": {},
   "outputs": [
    {
     "data": {
      "application/vnd.microsoft.datawrangler.viewer.v0+json": {
       "columns": [
        {
         "name": "index",
         "rawType": "int64",
         "type": "integer"
        },
        {
         "name": "lon",
         "rawType": "float64",
         "type": "float"
        },
        {
         "name": "lat",
         "rawType": "float64",
         "type": "float"
        },
        {
         "name": "fid",
         "rawType": "int64",
         "type": "integer"
        },
        {
         "name": "datetime",
         "rawType": "datetime64[ns]",
         "type": "datetime"
        },
        {
         "name": "description",
         "rawType": "object",
         "type": "string"
        },
        {
         "name": "object_id",
         "rawType": "int64",
         "type": "integer"
        }
       ],
       "ref": "0f36aa75-a731-4106-acc1-39d5cf423c44",
       "rows": [
        [
         "0",
         "7.43011494499817",
         "46.953651141982",
         "1",
         "2025-06-24 09:00:00",
         "Uni Tobler",
         "1"
        ],
        [
         "1",
         "7.43704776317992",
         "46.9509344310627",
         "2",
         "2025-06-24 12:00:00",
         "State Archives of Bern",
         "1"
        ],
        [
         "2",
         "7.43011494499817",
         "46.953651141982",
         "3",
         "2025-06-24 16:00:00",
         "Uni Tobler",
         "1"
        ],
        [
         "3",
         "7.43011494499817",
         "46.953651141982",
         "4",
         "2025-06-25 09:00:00",
         "Uni Tobler",
         "2"
        ],
        [
         "4",
         "7.43011494499817",
         "46.953651141982",
         "5",
         "2025-06-25 12:00:00",
         "Uni Tobler",
         "2"
        ],
        [
         "5",
         "7.43947740333499",
         "46.9193164180656",
         "6",
         "2025-06-25 19:00:00",
         "Gurten",
         "2"
        ],
        [
         "6",
         "7.43011494499817",
         "46.953651141982",
         "7",
         "2025-06-26 09:00:00",
         "Uni Tobler",
         "3"
        ],
        [
         "7",
         "7.4492954510515",
         "46.9429838108295",
         "8",
         "2025-06-26 12:00:00",
         "Bern Historical Museum",
         "3"
        ],
        [
         "8",
         "7.43011494499817",
         "46.953651141982",
         "9",
         "2025-06-26 16:00:00",
         "Uni Tobler",
         "3"
        ]
       ],
       "shape": {
        "columns": 6,
        "rows": 9
       }
      },
      "text/html": [
       "<div>\n",
       "<style scoped>\n",
       "    .dataframe tbody tr th:only-of-type {\n",
       "        vertical-align: middle;\n",
       "    }\n",
       "\n",
       "    .dataframe tbody tr th {\n",
       "        vertical-align: top;\n",
       "    }\n",
       "\n",
       "    .dataframe thead th {\n",
       "        text-align: right;\n",
       "    }\n",
       "</style>\n",
       "<table border=\"1\" class=\"dataframe\">\n",
       "  <thead>\n",
       "    <tr style=\"text-align: right;\">\n",
       "      <th></th>\n",
       "      <th>lon</th>\n",
       "      <th>lat</th>\n",
       "      <th>fid</th>\n",
       "      <th>datetime</th>\n",
       "      <th>description</th>\n",
       "      <th>object_id</th>\n",
       "    </tr>\n",
       "  </thead>\n",
       "  <tbody>\n",
       "    <tr>\n",
       "      <th>0</th>\n",
       "      <td>7.430115</td>\n",
       "      <td>46.953651</td>\n",
       "      <td>1</td>\n",
       "      <td>2025-06-24 09:00:00</td>\n",
       "      <td>Uni Tobler</td>\n",
       "      <td>1</td>\n",
       "    </tr>\n",
       "    <tr>\n",
       "      <th>1</th>\n",
       "      <td>7.437048</td>\n",
       "      <td>46.950934</td>\n",
       "      <td>2</td>\n",
       "      <td>2025-06-24 12:00:00</td>\n",
       "      <td>State Archives of Bern</td>\n",
       "      <td>1</td>\n",
       "    </tr>\n",
       "    <tr>\n",
       "      <th>2</th>\n",
       "      <td>7.430115</td>\n",
       "      <td>46.953651</td>\n",
       "      <td>3</td>\n",
       "      <td>2025-06-24 16:00:00</td>\n",
       "      <td>Uni Tobler</td>\n",
       "      <td>1</td>\n",
       "    </tr>\n",
       "    <tr>\n",
       "      <th>3</th>\n",
       "      <td>7.430115</td>\n",
       "      <td>46.953651</td>\n",
       "      <td>4</td>\n",
       "      <td>2025-06-25 09:00:00</td>\n",
       "      <td>Uni Tobler</td>\n",
       "      <td>2</td>\n",
       "    </tr>\n",
       "    <tr>\n",
       "      <th>4</th>\n",
       "      <td>7.430115</td>\n",
       "      <td>46.953651</td>\n",
       "      <td>5</td>\n",
       "      <td>2025-06-25 12:00:00</td>\n",
       "      <td>Uni Tobler</td>\n",
       "      <td>2</td>\n",
       "    </tr>\n",
       "    <tr>\n",
       "      <th>5</th>\n",
       "      <td>7.439477</td>\n",
       "      <td>46.919316</td>\n",
       "      <td>6</td>\n",
       "      <td>2025-06-25 19:00:00</td>\n",
       "      <td>Gurten</td>\n",
       "      <td>2</td>\n",
       "    </tr>\n",
       "    <tr>\n",
       "      <th>6</th>\n",
       "      <td>7.430115</td>\n",
       "      <td>46.953651</td>\n",
       "      <td>7</td>\n",
       "      <td>2025-06-26 09:00:00</td>\n",
       "      <td>Uni Tobler</td>\n",
       "      <td>3</td>\n",
       "    </tr>\n",
       "    <tr>\n",
       "      <th>7</th>\n",
       "      <td>7.449295</td>\n",
       "      <td>46.942984</td>\n",
       "      <td>8</td>\n",
       "      <td>2025-06-26 12:00:00</td>\n",
       "      <td>Bern Historical Museum</td>\n",
       "      <td>3</td>\n",
       "    </tr>\n",
       "    <tr>\n",
       "      <th>8</th>\n",
       "      <td>7.430115</td>\n",
       "      <td>46.953651</td>\n",
       "      <td>9</td>\n",
       "      <td>2025-06-26 16:00:00</td>\n",
       "      <td>Uni Tobler</td>\n",
       "      <td>3</td>\n",
       "    </tr>\n",
       "  </tbody>\n",
       "</table>\n",
       "</div>"
      ],
      "text/plain": [
       "        lon        lat  fid            datetime             description  \\\n",
       "0  7.430115  46.953651    1 2025-06-24 09:00:00              Uni Tobler   \n",
       "1  7.437048  46.950934    2 2025-06-24 12:00:00  State Archives of Bern   \n",
       "2  7.430115  46.953651    3 2025-06-24 16:00:00              Uni Tobler   \n",
       "3  7.430115  46.953651    4 2025-06-25 09:00:00              Uni Tobler   \n",
       "4  7.430115  46.953651    5 2025-06-25 12:00:00              Uni Tobler   \n",
       "5  7.439477  46.919316    6 2025-06-25 19:00:00                  Gurten   \n",
       "6  7.430115  46.953651    7 2025-06-26 09:00:00              Uni Tobler   \n",
       "7  7.449295  46.942984    8 2025-06-26 12:00:00  Bern Historical Museum   \n",
       "8  7.430115  46.953651    9 2025-06-26 16:00:00              Uni Tobler   \n",
       "\n",
       "   object_id  \n",
       "0          1  \n",
       "1          1  \n",
       "2          1  \n",
       "3          2  \n",
       "4          2  \n",
       "5          2  \n",
       "6          3  \n",
       "7          3  \n",
       "8          3  "
      ]
     },
     "metadata": {},
     "output_type": "display_data"
    }
   ],
   "source": [
    "# Load the data.\n",
    "df = pd.read_csv(FILENAME_DATA, parse_dates=['datetime'])\n",
    "\n",
    "display(df)"
   ]
  },
  {
   "cell_type": "markdown",
   "id": "411be6fb",
   "metadata": {},
   "source": [
    "## Show data on the map"
   ]
  },
  {
   "cell_type": "code",
   "execution_count": 15,
   "id": "6a1f099c",
   "metadata": {},
   "outputs": [
    {
     "data": {
      "application/vnd.jupyter.widget-view+json": {
       "model_id": "80e9ab13267c4296932c5b4410b7804b",
       "version_major": 2,
       "version_minor": 0
      },
      "text/plain": [
       "VBox(children=(Map(center=[np.float64(46.952745571675564), np.float64(7.432425884392086)], controls=(ZoomContr…"
      ]
     },
     "metadata": {},
     "output_type": "display_data"
    }
   ],
   "source": [
    "# Shift of the lines in degree.\n",
    "SHIFT = 0.0001\n",
    "\n",
    "# Create a map for each object.\n",
    "maps = []\n",
    "grouped = df.groupby('object_id')\n",
    "for _, group in grouped:\n",
    "    \n",
    "    # Define a map.\n",
    "    MAP_CENTRE = (group['lat'].mean(), group['lon'].mean())\n",
    "    m = Map(basemap=basemaps.OpenStreetMap.Mapnik, center=MAP_CENTRE, zoom=ZOOM_LEVEL)\n",
    "\n",
    "    group_sorted = group.sort_values(by='datetime')\n",
    "    coords_prev = ()\n",
    "    \n",
    "    for _, entry in group_sorted.iterrows():\n",
    "        \n",
    "        # Add markers with popup to the map.\n",
    "        marker = Marker(location=(entry['lat'], entry['lon']))\n",
    "        popup = Popup(location=(entry['lat'], entry['lon']), child=HTML(entry['description']), close_button=True)\n",
    "        marker.popup = popup        \n",
    "        m.add_layer(marker)\n",
    "\n",
    "        coords_current = (entry['lat'], entry['lon'])\n",
    "        if coords_prev:\n",
    "            \n",
    "            # Shift the coordinates.\n",
    "            if coords_current[0] < coords_prev[0]:\n",
    "                coords_prev_shifted = (coords_prev[0] + SHIFT, coords_prev[1] + SHIFT)\n",
    "                coords_current_shifted = (coords_current[0] + SHIFT, coords_current[1] + SHIFT)\n",
    "            else:\n",
    "                coords_prev_shifted = (coords_prev[0] - SHIFT, coords_prev[1] - SHIFT)\n",
    "                coords_current_shifted = (coords_current[0] - SHIFT, coords_current[1] - SHIFT)\n",
    "\n",
    "            # Create a line between both points.\n",
    "            arrow_line = AntPath(locations=[coords_prev_shifted, coords_current_shifted],\n",
    "                                 delay=4000,\n",
    "                                 weight=4\n",
    "                                 )\n",
    "            m.add_layer(arrow_line)\n",
    "            \n",
    "        coords_prev = tuple(coords_current)\n",
    "\n",
    "    maps.append(m)\n",
    "\n",
    "# Show the maps.\n",
    "vbox = VBox(maps)\n",
    "display(vbox)"
   ]
  },
  {
   "cell_type": "markdown",
   "id": "a5b97df2",
   "metadata": {},
   "source": [
    "## Export the map as html file"
   ]
  },
  {
   "cell_type": "code",
   "execution_count": 16,
   "id": "4419f2d0",
   "metadata": {},
   "outputs": [],
   "source": [
    "# File name of the html to be exported.\n",
    "FILENAME_MAP = 'map.html'\n",
    "\n",
    "# Export the first map as an example.\n",
    "m3 = maps[0]\n",
    "m3.add_control(FullScreenControl())\n",
    "\n",
    "if in_colab:\n",
    "    m3.save(WORKING_DIRECTORY + FILENAME_MAP)\n",
    "\n",
    "else:\n",
    "    m3.save(FILENAME_MAP)"
   ]
  }
 ],
 "metadata": {
  "kernelspec": {
   "display_name": ".venv",
   "language": "python",
   "name": "python3"
  },
  "language_info": {
   "codemirror_mode": {
    "name": "ipython",
    "version": 3
   },
   "file_extension": ".py",
   "mimetype": "text/x-python",
   "name": "python",
   "nbconvert_exporter": "python",
   "pygments_lexer": "ipython3",
   "version": "3.10.11"
  }
 },
 "nbformat": 4,
 "nbformat_minor": 5
}
